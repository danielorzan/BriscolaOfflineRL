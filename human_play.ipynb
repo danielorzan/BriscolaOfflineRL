{
 "cells": [
  {
   "cell_type": "code",
   "execution_count": null,
   "metadata": {},
   "outputs": [],
   "source": [
    "import sys\n",
    "import os\n",
    "import warnings\n",
    "\n",
    "warnings.filterwarnings('ignore')\n",
    "\n",
    "# Clone the repository\n",
    "!git clone https://github.com/danielorzan/BriscolaOfflineRL.git\n",
    "\n",
    "# Add the repository directory to sys.path\n",
    "repo_dir = '/content/BriscolaOfflineRL'  # Change this to the path of your repository\n",
    "sys.path.append(repo_dir)\n",
    "os.chdir('BriscolaOfflineRL')\n",
    "\n",
    "# Now you can import modules or access files from your repository\n",
    "from human_play import game_loop"
   ]
  },
  {
   "cell_type": "code",
   "execution_count": null,
   "metadata": {},
   "outputs": [],
   "source": [
    "game_loop()"
   ]
  },
  {
   "cell_type": "code",
   "execution_count": null,
   "metadata": {},
   "outputs": [],
   "source": [
    "# Step 3: Push Changes\n",
    "commit_message = \"Update output\"  # Customize the commit message as needed\n",
    "subprocess.run([\"git\", \"add\", \".\"])\n",
    "subprocess.run([\"git\", \"commit\", \"-m\", commit_message])\n",
    "subprocess.run([\"git\", \"push\"])"
   ]
  },
  {
   "cell_type": "code",
   "execution_count": null,
   "metadata": {},
   "outputs": [],
   "source": []
  }
 ],
 "metadata": {
  "kernelspec": {
   "display_name": "Python (SML virtualenv)",
   "language": "python",
   "name": "statistical-machine-learning"
  },
  "language_info": {
   "codemirror_mode": {
    "name": "ipython",
    "version": 3
   },
   "file_extension": ".py",
   "mimetype": "text/x-python",
   "name": "python",
   "nbconvert_exporter": "python",
   "pygments_lexer": "ipython3",
   "version": "3.8.3"
  }
 },
 "nbformat": 4,
 "nbformat_minor": 2
}
