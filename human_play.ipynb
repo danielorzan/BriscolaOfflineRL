{
 "cells": [
  {
   "cell_type": "code",
   "execution_count": null,
   "metadata": {},
   "outputs": [],
   "source": [
    "import subprocess\n",
    "\n",
    "# Step 1: Connect to GitHub\n",
    "repo_url = \"https://github.com/danielorzan/BriscolaOfflineRL.git\"\n",
    "subprocess.run([\"git\", \"clone\", repo_url])  # or git pull if the repo already exists locally\n",
    "\n",
    "# Step 2: Run Your Code\n",
    "from human_play import game_loop\n",
    "game_loop()\n",
    "\n",
    "# Step 3: Push Changes\n",
    "commit_message = \"Update output\"  # Customize the commit message as needed\n",
    "subprocess.run([\"git\", \"add\", \".\"])\n",
    "subprocess.run([\"git\", \"commit\", \"-m\", commit_message])\n",
    "subprocess.run([\"git\", \"push\"])"
   ]
  }
 ],
 "metadata": {
  "kernelspec": {
   "display_name": "base",
   "language": "python",
   "name": "python3"
  },
  "language_info": {
   "codemirror_mode": {
    "name": "ipython",
    "version": 3
   },
   "file_extension": ".py",
   "mimetype": "text/x-python",
   "name": "python",
   "nbconvert_exporter": "python",
   "pygments_lexer": "ipython3",
   "version": "3.8.3"
  }
 },
 "nbformat": 4,
 "nbformat_minor": 2
}
